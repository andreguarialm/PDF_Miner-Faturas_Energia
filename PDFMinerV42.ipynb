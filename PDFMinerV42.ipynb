{
 "cells": [
  {
   "cell_type": "markdown",
   "metadata": {},
   "source": [
    "Leitor de fatura ENEL"
   ]
  },
  {
   "cell_type": "code",
   "execution_count": 214,
   "metadata": {},
   "outputs": [],
   "source": [
    "from fileinput import close\n",
    "from pdfminer.pdfparser import PDFParser\n",
    "from pdfminer.pdfdocument import PDFDocument\n",
    "from pdfminer.pdfpage import PDFPage\n",
    "from pdfminer.pdfpage import PDFTextExtractionNotAllowed\n",
    "from pdfminer.pdfinterp import PDFResourceManager\n",
    "from pdfminer.pdfinterp import PDFPageInterpreter\n",
    "from pdfminer.pdfdevice import PDFDevice\n",
    "from pdfminer.layout import LAParams\n",
    "from pdfminer.converter import PDFPageAggregator\n",
    "import pdfminer\n",
    "\n",
    "fp = open('T_29_121179508_202209_20221001_35927.pdf', 'rb')\n",
    "f = open('dump4.txt','w')\n",
    "f1 = open('dados_fatura_ENEL.txt','w')"
   ]
  },
  {
   "cell_type": "code",
   "execution_count": 215,
   "metadata": {},
   "outputs": [],
   "source": [
    "# Create a PDF parser object associated with the file object.\n",
    "parser = PDFParser(fp)\n",
    "\n",
    "# Create a PDF document object that stores the document structure.\n",
    "# Password for initialization as 2nd parameter\n",
    "document = PDFDocument(parser)\n",
    "\n",
    "# Check if the document allows text extraction. If not, abort.\n",
    "if not document.is_extractable:\n",
    "    raise PDFTextExtractionNotAllowed\n",
    "\n",
    "# Create a PDF resource manager object that stores shared resources.\n",
    "rsrcmgr = PDFResourceManager()\n",
    "\n",
    "# Create a PDF device object.\n",
    "device = PDFDevice(rsrcmgr)\n",
    "\n",
    "# BEGIN LAYOUT ANALYSIS\n",
    "# Set parameters for analysis.\n",
    "laparams = LAParams()\n",
    "\n",
    "# Create a PDF page aggregator object.\n",
    "device = PDFPageAggregator(rsrcmgr, laparams=laparams)\n",
    "\n",
    "# Create a PDF interpreter object.\n",
    "interpreter = PDFPageInterpreter(rsrcmgr, device)"
   ]
  },
  {
   "cell_type": "markdown",
   "metadata": {},
   "source": [
    "Obter dados da fatura com coordenadas"
   ]
  },
  {
   "cell_type": "code",
   "execution_count": 216,
   "metadata": {},
   "outputs": [],
   "source": [
    "def parse_obj(lt_objs):\n",
    "\n",
    "    # loop over the object list\n",
    "    for obj in lt_objs:\n",
    "\n",
    "        # if it's a textbox, print text and location\n",
    "        if isinstance(obj, pdfminer.layout.LTTextBoxHorizontal):\n",
    "            box_temp = str(int(obj.bbox[0])) + \",\" + str(int(obj.bbox[1])) + \": \" + str(obj.get_text().replace('\\n', ''))  + \"\\n\"\n",
    "            f = open('dump4.txt','a')\n",
    "            #temp\n",
    "            f.write(str(page.pageid-4))\n",
    "            f.write(\" \")\n",
    "            #temp\n",
    "            f.write(box_temp)\n",
    "            f.close()\n",
    "\n",
    "        # if it's a container, recurse\n",
    "        elif isinstance(obj, pdfminer.layout.LTFigure):\n",
    "            parse_obj(obj._objs)"
   ]
  },
  {
   "cell_type": "code",
   "execution_count": 217,
   "metadata": {},
   "outputs": [],
   "source": [
    "# loop over all pages in the document\n",
    "for page in PDFPage.create_pages(document):\n",
    "    \n",
    "    # read the page into a layout object\n",
    "    interpreter.process_page(page)\n",
    "    layout = device.get_result()\n",
    "\n",
    "    # extract text from this object\n",
    "    parse_obj(layout._objs)"
   ]
  },
  {
   "cell_type": "markdown",
   "metadata": {},
   "source": [
    "Obter Nro de Instalação"
   ]
  },
  {
   "cell_type": "code",
   "execution_count": 218,
   "metadata": {},
   "outputs": [],
   "source": [
    "#Declaração da Função\n",
    "\n",
    "def get_nr_instal(lt_objs):\n",
    "    \n",
    "    if(page.pageid-4==1):\n",
    "        for obj in lt_objs:\n",
    "\n",
    "            if isinstance(obj, pdfminer.layout.LTTextBoxHorizontal):\n",
    "\n",
    "                if(abs(obj.bbox[0]-110)<0.99999 and abs(obj.bbox[1]-743<0.99999)):\n",
    "                    f = open('dados_fatura_ENEL.txt','a')\n",
    "                    f.write(\"Numero da Instalacao: \")\n",
    "                    f.write(obj.get_text())\n",
    "                    f.write(\"\\n\")\n",
    "                    f.close()\n",
    "\n",
    "            elif isinstance(obj, pdfminer.layout.LTFigure):\n",
    "                get_nr_instal(obj._objs)\n",
    "\n",
    "\n",
    "#Chamada da Função\n",
    "\n",
    "for page in PDFPage.create_pages(document):\n",
    "    interpreter.process_page(page)\n",
    "    layout = device.get_result()\n",
    "    get_nr_instal(layout._objs)\n",
    "\n"
   ]
  },
  {
   "cell_type": "markdown",
   "metadata": {},
   "source": [
    "Obter nro do Cliente"
   ]
  },
  {
   "cell_type": "code",
   "execution_count": 219,
   "metadata": {},
   "outputs": [],
   "source": [
    "#Declaração da Função\n",
    "\n",
    "def get_nr_client(lt_objs):\n",
    "\n",
    "    if(page.pageid-4==1):\n",
    "        for obj in lt_objs:\n",
    "\n",
    "            if isinstance(obj, pdfminer.layout.LTTextBoxHorizontal):\n",
    "\n",
    "                if(abs(obj.bbox[0]-220)<0.99999 and abs(obj.bbox[1]-743<0.99999)):\n",
    "                    f = open('dados_fatura_ENEL.txt','a')\n",
    "                    f.write(\"Numero do Cliente: \")\n",
    "                    f.write(obj.get_text())\n",
    "                    f.write(\"\\n\")\n",
    "                    f.close()\n",
    "\n",
    "            elif isinstance(obj, pdfminer.layout.LTFigure):\n",
    "                get_nr_client(obj._objs)\n",
    "\n",
    "#Chamada da Função\n",
    "for page in PDFPage.create_pages(document):\n",
    "    interpreter.process_page(page)\n",
    "    layout = device.get_result()\n",
    "    get_nr_client(layout._objs)"
   ]
  },
  {
   "cell_type": "markdown",
   "metadata": {},
   "source": [
    "Data Leitura Anterior"
   ]
  },
  {
   "cell_type": "code",
   "execution_count": 220,
   "metadata": {},
   "outputs": [],
   "source": [
    "#Declaração da Função\n",
    "\n",
    "def get_nr_client(lt_objs):\n",
    "\n",
    "    if(page.pageid-4==1):\n",
    "        for obj in lt_objs:\n",
    "\n",
    "            if isinstance(obj, pdfminer.layout.LTTextBoxHorizontal):\n",
    "\n",
    "                if(abs(obj.bbox[0]-346)<0.99999 and abs(obj.bbox[1]-684<0.99999)):\n",
    "                    f = open('dados_fatura_ENEL.txt','a')\n",
    "                    f.write(\"Data Leitura Anterior: \")\n",
    "                    f.write(obj.get_text())\n",
    "                    f.write(\"\\n\")\n",
    "                    f.close()\n",
    "\n",
    "            elif isinstance(obj, pdfminer.layout.LTFigure):\n",
    "                get_nr_client(obj._objs)\n",
    "\n",
    "#Chamada da Função\n",
    "for page in PDFPage.create_pages(document):\n",
    "    interpreter.process_page(page)\n",
    "    layout = device.get_result()\n",
    "    get_nr_client(layout._objs)"
   ]
  },
  {
   "cell_type": "markdown",
   "metadata": {},
   "source": [
    "Data Leitura Atual"
   ]
  },
  {
   "cell_type": "code",
   "execution_count": 221,
   "metadata": {},
   "outputs": [],
   "source": [
    "#Declaração da Função\n",
    "\n",
    "def get_nr_client(lt_objs):\n",
    "\n",
    "    if(page.pageid-4==1):\n",
    "        for obj in lt_objs:\n",
    "\n",
    "            if isinstance(obj, pdfminer.layout.LTTextBoxHorizontal):\n",
    "\n",
    "                if(abs(obj.bbox[0]-350)<0.99999 and abs(obj.bbox[1]-671<0.99999)):\n",
    "                    f = open('dados_fatura_ENEL.txt','a')\n",
    "                    f.write(\"Data Leitura Atual: \")\n",
    "                    f.write(obj.get_text())\n",
    "                    f.write(\"\\n\")\n",
    "                    f.close()\n",
    "\n",
    "            elif isinstance(obj, pdfminer.layout.LTFigure):\n",
    "                get_nr_client(obj._objs)\n",
    "\n",
    "#Chamada da Função\n",
    "for page in PDFPage.create_pages(document):\n",
    "    interpreter.process_page(page)\n",
    "    layout = device.get_result()\n",
    "    get_nr_client(layout._objs)"
   ]
  },
  {
   "cell_type": "markdown",
   "metadata": {},
   "source": [
    "Data Proxima Leitura"
   ]
  },
  {
   "cell_type": "code",
   "execution_count": 222,
   "metadata": {},
   "outputs": [],
   "source": [
    "#Declaração da Função\n",
    "\n",
    "def get_nr_client(lt_objs):\n",
    "\n",
    "    if(page.pageid-4==1):\n",
    "        for obj in lt_objs:\n",
    "\n",
    "            if isinstance(obj, pdfminer.layout.LTTextBoxHorizontal):\n",
    "\n",
    "                if(abs(obj.bbox[0]-348)<0.99999 and abs(obj.bbox[1]-658<0.99999)):\n",
    "                    f = open('dados_fatura_ENEL.txt','a')\n",
    "                    f.write(\"Data Proxima Leitura: \")\n",
    "                    f.write(obj.get_text())\n",
    "                    f.write(\"\\n\")\n",
    "                    f.close()\n",
    "\n",
    "            elif isinstance(obj, pdfminer.layout.LTFigure):\n",
    "                get_nr_client(obj._objs)\n",
    "\n",
    "#Chamada da Função\n",
    "for page in PDFPage.create_pages(document):\n",
    "    interpreter.process_page(page)\n",
    "    layout = device.get_result()\n",
    "    get_nr_client(layout._objs)"
   ]
  }
 ],
 "metadata": {
  "kernelspec": {
   "display_name": "Python 3.10.8 64-bit",
   "language": "python",
   "name": "python3"
  },
  "language_info": {
   "codemirror_mode": {
    "name": "ipython",
    "version": 3
   },
   "file_extension": ".py",
   "mimetype": "text/x-python",
   "name": "python",
   "nbconvert_exporter": "python",
   "pygments_lexer": "ipython3",
   "version": "3.10.8"
  },
  "orig_nbformat": 4,
  "vscode": {
   "interpreter": {
    "hash": "26de051ba29f2982a8de78e945f0abaf191376122a1563185a90213a26c5da77"
   }
  }
 },
 "nbformat": 4,
 "nbformat_minor": 2
}
