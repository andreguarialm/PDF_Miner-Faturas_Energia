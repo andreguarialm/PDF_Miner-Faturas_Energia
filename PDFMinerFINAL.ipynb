{
 "cells": [
  {
   "cell_type": "code",
   "execution_count": 51,
   "metadata": {},
   "outputs": [
    {
     "ename": "ModuleNotFoundError",
     "evalue": "No module named 'xlsxwriter'",
     "output_type": "error",
     "traceback": [
      "\u001b[1;31m---------------------------------------------------------------------------\u001b[0m",
      "\u001b[1;31mModuleNotFoundError\u001b[0m                       Traceback (most recent call last)",
      "Cell \u001b[1;32mIn [51], line 11\u001b[0m\n\u001b[0;32m      9\u001b[0m \u001b[39mfrom\u001b[39;00m \u001b[39mpdfminer\u001b[39;00m\u001b[39m.\u001b[39;00m\u001b[39mconverter\u001b[39;00m \u001b[39mimport\u001b[39;00m PDFPageAggregator\n\u001b[0;32m     10\u001b[0m \u001b[39mimport\u001b[39;00m \u001b[39mpdfminer\u001b[39;00m\n\u001b[1;32m---> 11\u001b[0m \u001b[39mimport\u001b[39;00m \u001b[39mxlsxwriter\u001b[39;00m\n\u001b[0;32m     13\u001b[0m \u001b[39mimport\u001b[39;00m \u001b[39mpandas\u001b[39;00m \u001b[39mas\u001b[39;00m \u001b[39mpd\u001b[39;00m\n\u001b[0;32m     15\u001b[0m \u001b[39mfrom\u001b[39;00m \u001b[39mdatetime\u001b[39;00m \u001b[39mimport\u001b[39;00m datetime\n",
      "\u001b[1;31mModuleNotFoundError\u001b[0m: No module named 'xlsxwriter'"
     ]
    }
   ],
   "source": [
    "from pdfminer.pdfparser import PDFParser\n",
    "from pdfminer.pdfdocument import PDFDocument\n",
    "from pdfminer.pdfpage import PDFPage\n",
    "from pdfminer.pdfpage import PDFTextExtractionNotAllowed\n",
    "from pdfminer.pdfinterp import PDFResourceManager\n",
    "from pdfminer.pdfinterp import PDFPageInterpreter\n",
    "from pdfminer.pdfdevice import PDFDevice\n",
    "from pdfminer.layout import LAParams\n",
    "from pdfminer.converter import PDFPageAggregator\n",
    "import pdfminer\n",
    "import xlsxwriter\n",
    "\n",
    "import pandas as pd\n",
    "\n",
    "from datetime import datetime\n",
    "from datetime import date\n",
    "\n",
    "fatura = r\"FATURAS\\T_52_92598964-1_202209_20221004_36056_UG.pdf\"\n",
    "\n",
    "fp = open(fatura, 'rb')\n",
    "\n",
    "current_day = date.today()\n",
    "print(current_day)\n",
    "now = datetime.now()\n",
    "current_time = now.strftime(\"%H:%M:%S\")\n",
    "\n",
    "df = pd.DataFrame([[\"Capturado em: \", str(current_day), \" às: \", current_time]], index=[''], columns=['PageID','X','Y','Content'])\n",
    "\n",
    "writer = pd.ExcelWriter(\"dados_fatura.xlsx\", engine='openpyxl')\n",
    "\n",
    "\n",
    "df.to_excel(writer, sheet_name='Sheet1')\n",
    "\n",
    "workbook  = writer.book\n",
    "worksheet = writer.sheets['Sheet1']\n",
    "#writer.save()\n"
   ]
  },
  {
   "cell_type": "code",
   "execution_count": null,
   "metadata": {},
   "outputs": [],
   "source": [
    "# Create a PDF parser object associated with the file object.\n",
    "parser = PDFParser(fp)\n",
    "\n",
    "# Create a PDF document object that stores the document structure.\n",
    "# Password for initialization as 2nd parameter\n",
    "document = PDFDocument(parser)\n",
    "\n",
    "# Check if the document allows text extraction. If not, abort.\n",
    "if not document.is_extractable:\n",
    "    raise PDFTextExtractionNotAllowed\n",
    "\n",
    "# Create a PDF resource manager object that stores shared resources.\n",
    "rsrcmgr = PDFResourceManager()\n",
    "\n",
    "# Create a PDF device object.\n",
    "device = PDFDevice(rsrcmgr)\n",
    "\n",
    "# BEGIN LAYOUT ANALYSIS\n",
    "# Set parameters for analysis.\n",
    "laparams = LAParams()\n",
    "\n",
    "# Create a PDF page aggregator object.\n",
    "device = PDFPageAggregator(rsrcmgr, laparams=laparams)\n",
    "\n",
    "# Create a PDF interpreter object.\n",
    "interpreter = PDFPageInterpreter(rsrcmgr, device)"
   ]
  },
  {
   "cell_type": "code",
   "execution_count": null,
   "metadata": {},
   "outputs": [],
   "source": [
    "def parse_obj(lt_objs):\n",
    "\n",
    "    \n",
    "    # loop over the object list\n",
    "    for obj in lt_objs:\n",
    "\n",
    "        # if it's a textbox, print text and location\n",
    "        if isinstance(obj, pdfminer.layout.LTTextBoxHorizontal):\n",
    "\n",
    "                df = pd.DataFrame([[page.pageid, int(obj.bbox[0]), int(obj.bbox[1]), str(obj.get_text().replace('\\n', ''))]], index=[''], columns=['PageID','X', 'Y', 'content'])\n",
    "\n",
    "                df.to_excel(writer, startrow = writer.sheets['Sheet1'].max_row, index=[''], header= False)\n",
    "                \n",
    "\n",
    "        # if it's a container, recurse\n",
    "        elif isinstance(obj, pdfminer.layout.LTFigure):\n",
    "            parse_obj(obj._objs)\n",
    "    \n",
    "    \n",
    "         \n",
    "\n",
    "\n",
    "    \n"
   ]
  },
  {
   "cell_type": "code",
   "execution_count": null,
   "metadata": {},
   "outputs": [
    {
     "name": "stderr",
     "output_type": "stream",
     "text": [
      "C:\\Users\\andre\\AppData\\Local\\Temp\\ipykernel_12592\\1224717150.py:11: FutureWarning: save is not part of the public API, usage can give unexpected results and will be removed in a future version\n",
      "  writer.save()\n"
     ]
    }
   ],
   "source": [
    "# loop over all pages in the document\n",
    "for page in PDFPage.create_pages(document):\n",
    "\n",
    "    # read the page into a layout object\n",
    "    interpreter.process_page(page)\n",
    "    layout = device.get_result()\n",
    "\n",
    "    # extract text from this object\n",
    "    parse_obj(layout._objs)\n",
    "\n",
    "writer.save()"
   ]
  }
 ],
 "metadata": {
  "kernelspec": {
   "display_name": "Python 3.10.8 64-bit",
   "language": "python",
   "name": "python3"
  },
  "language_info": {
   "codemirror_mode": {
    "name": "ipython",
    "version": 3
   },
   "file_extension": ".py",
   "mimetype": "text/x-python",
   "name": "python",
   "nbconvert_exporter": "python",
   "pygments_lexer": "ipython3",
   "version": "3.10.8"
  },
  "orig_nbformat": 4,
  "vscode": {
   "interpreter": {
    "hash": "26de051ba29f2982a8de78e945f0abaf191376122a1563185a90213a26c5da77"
   }
  }
 },
 "nbformat": 4,
 "nbformat_minor": 2
}
